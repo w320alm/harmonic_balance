{
 "cells": [
  {
   "cell_type": "code",
   "execution_count": 133,
   "metadata": {
    "scrolled": true
   },
   "outputs": [
    {
     "name": "stdout",
     "output_type": "stream",
     "text": [
      "Automatic pdb calling has been turned OFF\n"
     ]
    }
   ],
   "source": [
    "%pdb off\n",
    "%matplotlib inline\n",
    "import matplotlib.pyplot as plt\n",
    "import scipy as sp\n",
    "import scipy.fftpack as fftp\n",
    "from scipy import pi,sin,cos"
   ]
  },
  {
   "cell_type": "code",
   "execution_count": 2,
   "metadata": {},
   "outputs": [
    {
     "data": {
      "text/plain": [
       "1.2246467991473532e-16"
      ]
     },
     "execution_count": 2,
     "metadata": {},
     "output_type": "execute_result"
    }
   ],
   "source": [
    "sp.sin(pi)"
   ]
  },
  {
   "cell_type": "code",
   "execution_count": 3,
   "metadata": {
    "collapsed": true
   },
   "outputs": [],
   "source": [
    "a = sp.array([[sin(0),sin(2.*pi/3),sin(4.*(pi/3))],[cos(0),cos(2.*pi/3),cos(4.*(pi/3))]])"
   ]
  },
  {
   "cell_type": "code",
   "execution_count": 55,
   "metadata": {},
   "outputs": [
    {
     "data": {
      "text/plain": [
       "array([[ 0.       ,  0.8660254, -0.8660254],\n",
       "       [ 1.       , -0.5      , -0.5      ]])"
      ]
     },
     "execution_count": 55,
     "metadata": {},
     "output_type": "execute_result"
    }
   ],
   "source": [
    "a"
   ]
  },
  {
   "cell_type": "code",
   "execution_count": null,
   "metadata": {
    "collapsed": true
   },
   "outputs": [],
   "source": []
  },
  {
   "cell_type": "code",
   "execution_count": 5,
   "metadata": {},
   "outputs": [
    {
     "data": {
      "text/plain": [
       "array([[  4.44089210e-16 +0.00000000e+00j,\n",
       "         -2.22044605e-16 -1.50000000e+00j,\n",
       "         -2.22044605e-16 +1.50000000e+00j],\n",
       "       [ -2.22044605e-16 +0.00000000e+00j,\n",
       "          1.50000000e+00 -5.76888806e-16j,\n",
       "          1.50000000e+00 +5.76888806e-16j]])"
      ]
     },
     "execution_count": 5,
     "metadata": {},
     "output_type": "execute_result"
    }
   ],
   "source": [
    "b = fftp.fft(a)\n",
    "b"
   ]
  },
  {
   "cell_type": "code",
   "execution_count": 6,
   "metadata": {
    "collapsed": true
   },
   "outputs": [],
   "source": [
    "omega = sp.array([0,1j,-1j])"
   ]
  },
  {
   "cell_type": "code",
   "execution_count": 7,
   "metadata": {},
   "outputs": [
    {
     "data": {
      "text/plain": [
       "array([ 0.+0.j,  0.+1.j, -0.-1.j])"
      ]
     },
     "execution_count": 7,
     "metadata": {},
     "output_type": "execute_result"
    }
   ],
   "source": [
    "omega"
   ]
  },
  {
   "cell_type": "code",
   "execution_count": 8,
   "metadata": {},
   "outputs": [
    {
     "data": {
      "text/plain": [
       "array([  4.44089210e-16+0.j ,  -2.22044605e-16-1.5j,  -2.22044605e-16+1.5j])"
      ]
     },
     "execution_count": 8,
     "metadata": {},
     "output_type": "execute_result"
    }
   ],
   "source": [
    "b[0,:]"
   ]
  },
  {
   "cell_type": "code",
   "execution_count": 9,
   "metadata": {},
   "outputs": [
    {
     "data": {
      "text/plain": [
       "array([[  0.00000000e+00 +0.00000000e+00j,\n",
       "          1.50000000e+00 -2.22044605e-16j,\n",
       "          1.50000000e+00 +2.22044605e-16j],\n",
       "       [ -0.00000000e+00 +0.00000000e+00j,\n",
       "          5.76888806e-16 +1.50000000e+00j,\n",
       "          5.76888806e-16 -1.50000000e+00j]])"
      ]
     },
     "execution_count": 9,
     "metadata": {},
     "output_type": "execute_result"
    }
   ],
   "source": [
    "b*omega"
   ]
  },
  {
   "cell_type": "code",
   "execution_count": 10,
   "metadata": {
    "collapsed": true
   },
   "outputs": [],
   "source": [
    "c = fftp.ifft(b[0,:]*omega)"
   ]
  },
  {
   "cell_type": "code",
   "execution_count": 285,
   "metadata": {},
   "outputs": [
    {
     "name": "stdout",
     "output_type": "stream",
     "text": [
      "Help on function fft in module scipy.fftpack.basic:\n",
      "\n",
      "fft(x, n=None, axis=-1, overwrite_x=False)\n",
      "    Return discrete Fourier transform of real or complex sequence.\n",
      "    \n",
      "    The returned complex array contains ``y(0), y(1),..., y(n-1)`` where\n",
      "    \n",
      "    ``y(j) = (x * exp(-2*pi*sqrt(-1)*j*np.arange(n)/n)).sum()``.\n",
      "    \n",
      "    Parameters\n",
      "    ----------\n",
      "    x : array_like\n",
      "        Array to Fourier transform.\n",
      "    n : int, optional\n",
      "        Length of the Fourier transform.  If ``n < x.shape[axis]``, `x` is\n",
      "        truncated.  If ``n > x.shape[axis]``, `x` is zero-padded. The\n",
      "        default results in ``n = x.shape[axis]``.\n",
      "    axis : int, optional\n",
      "        Axis along which the fft's are computed; the default is over the\n",
      "        last axis (i.e., ``axis=-1``).\n",
      "    overwrite_x : bool, optional\n",
      "        If True, the contents of `x` can be destroyed; the default is False.\n",
      "    \n",
      "    Returns\n",
      "    -------\n",
      "    z : complex ndarray\n",
      "        with the elements::\n",
      "    \n",
      "            [y(0),y(1),..,y(n/2),y(1-n/2),...,y(-1)]        if n is even\n",
      "            [y(0),y(1),..,y((n-1)/2),y(-(n-1)/2),...,y(-1)]  if n is odd\n",
      "    \n",
      "        where::\n",
      "    \n",
      "            y(j) = sum[k=0..n-1] x[k] * exp(-sqrt(-1)*j*k* 2*pi/n), j = 0..n-1\n",
      "    \n",
      "        Note that ``y(-j) = y(n-j).conjugate()``.\n",
      "    \n",
      "    See Also\n",
      "    --------\n",
      "    ifft : Inverse FFT\n",
      "    rfft : FFT of a real sequence\n",
      "    \n",
      "    Notes\n",
      "    -----\n",
      "    The packing of the result is \"standard\": If ``A = fft(a, n)``, then\n",
      "    ``A[0]`` contains the zero-frequency term, ``A[1:n/2]`` contains the\n",
      "    positive-frequency terms, and ``A[n/2:]`` contains the negative-frequency\n",
      "    terms, in order of decreasingly negative frequency. So for an 8-point\n",
      "    transform, the frequencies of the result are [0, 1, 2, 3, -4, -3, -2, -1].\n",
      "    To rearrange the fft output so that the zero-frequency component is\n",
      "    centered, like [-4, -3, -2, -1,  0,  1,  2,  3], use `fftshift`.\n",
      "    \n",
      "    For `n` even, ``A[n/2]`` contains the sum of the positive and\n",
      "    negative-frequency terms.  For `n` even and `x` real, ``A[n/2]`` will\n",
      "    always be real.\n",
      "    \n",
      "    Both single and double precision routines are implemented.  Half precision\n",
      "    inputs will be converted to single precision.  Non floating-point inputs\n",
      "    will be converted to double precision.  Long-double precision inputs are\n",
      "    not supported.\n",
      "    \n",
      "    This function is most efficient when `n` is a power of two, and least\n",
      "    efficient when `n` is prime.\n",
      "    \n",
      "    If the data type of `x` is real, a \"real FFT\" algorithm is automatically\n",
      "    used, which roughly halves the computation time.  To increase efficiency\n",
      "    a little further, use `rfft`, which does the same calculation, but only\n",
      "    outputs half of the symmetrical spectrum.  If the data is both real and\n",
      "    symmetrical, the `dct` can again double the efficiency, by generating\n",
      "    half of the spectrum from half of the signal.\n",
      "    \n",
      "    Examples\n",
      "    --------\n",
      "    >>> from scipy.fftpack import fft, ifft\n",
      "    >>> x = np.arange(5)\n",
      "    >>> np.allclose(fft(ifft(x)), x, atol=1e-15)  # within numerical accuracy.\n",
      "    True\n",
      "\n"
     ]
    }
   ],
   "source": [
    "help(sp.fftpack.fft)"
   ]
  },
  {
   "cell_type": "code",
   "execution_count": 12,
   "metadata": {},
   "outputs": [
    {
     "data": {
      "text/plain": [
       "array([[ 0.       ,  0.8660254, -0.8660254],\n",
       "       [ 1.       , -0.5      , -0.5      ]])"
      ]
     },
     "execution_count": 12,
     "metadata": {},
     "output_type": "execute_result"
    }
   ],
   "source": [
    "a"
   ]
  },
  {
   "cell_type": "code",
   "execution_count": 26,
   "metadata": {},
   "outputs": [
    {
     "data": {
      "text/plain": [
       "3"
      ]
     },
     "execution_count": 26,
     "metadata": {},
     "output_type": "execute_result"
    }
   ],
   "source": [
    "a.shape[1]"
   ]
  },
  {
   "cell_type": "code",
   "execution_count": 259,
   "metadata": {
    "collapsed": true
   },
   "outputs": [],
   "source": [
    "def _harmonic_deriv(omega,r):\n",
    "    '''Derivative of a harmonic function using frequency methods\n",
    "    Returns the derivatives of a harmonic function\n",
    "    \n",
    "    Parameters\n",
    "    ----------\n",
    "    omega: float\n",
    "        Fundamendal frequency, in rad/sec, of repeating signal\n",
    "    r: ndarray\n",
    "        Array of rows of time histories to take the derivative of. \n",
    "        The 1 axis (each row) corresponds to a time history. \n",
    "    \n",
    "    Returns\n",
    "    -------\n",
    "    s: ndarray\n",
    "        array of function derivatives. \n",
    "        The 1 axis (each row) corresponds to a time history. \n",
    "    \n",
    "    Examples\n",
    "    --------\n",
    "    >>> import matplotlib.pyplot as plt\n",
    "    >>> import scipy as sp\n",
    "    >>> from scipy import pi,sin,cos\n",
    "    >>> f = 2\n",
    "    >>> omega = 2.*pi * f\n",
    "    >>> numsteps = 11\n",
    "    >>> t = sp.arange(0,1/omega*2*pi,1/omega*2*pi/numsteps)\n",
    "    >>> x = sp.array([sin(omega*t)])\n",
    "    >>> v = sp.array([omega*cos(omega*t)])\n",
    "    >>> states = sp.append(x,v,axis = 0)\n",
    "    >>> state_derives = _harmonic_deriv(omega,states)\n",
    "    >>> plt.plot(t,states.T,t,state_derives.T,'x')\n",
    "    '''\n",
    "    n = r.shape[1]\n",
    "    print(n)\n",
    "    # Need to check if omega is a float or the frequency array\n",
    "    omega_half = sp.arange((n-1)/2+1) * omega * 1j\n",
    "    omega_whole = sp.append(sp.conj(omega_half[-1:0:-1]),omega_half)\n",
    "    # print(omega_whole)\n",
    "    r_freq = fftp.fft(r)\n",
    "    # print(r_freq)\n",
    "    s_freq = r_freq * omega_whole\n",
    "    # print(s_freq)\n",
    "    s = -fftp.ifft(s_freq)/(n-2)*2\n",
    "    return sp.real(s)"
   ]
  },
  {
   "cell_type": "code",
   "execution_count": 282,
   "metadata": {},
   "outputs": [
    {
     "name": "stdout",
     "output_type": "stream",
     "text": [
      "11\n"
     ]
    },
    {
     "data": {
      "text/plain": [
       "[<matplotlib.lines.Line2D at 0x114a71438>,\n",
       " <matplotlib.lines.Line2D at 0x114a715f8>,\n",
       " <matplotlib.lines.Line2D at 0x114a717f0>,\n",
       " <matplotlib.lines.Line2D at 0x114a7b780>]"
      ]
     },
     "execution_count": 282,
     "metadata": {},
     "output_type": "execute_result"
    },
    {
     "data": {
      "image/png": "[encoded data removed]",
      "text/plain": [
       "<matplotlib.figure.Figure at 0x11421df60>"
      ]
     },
     "metadata": {},
     "output_type": "display_data"
    }
   ],
   "source": [
    "import matplotlib.pyplot as plt\n",
    "import scipy as sp\n",
    "from scipy import pi,sin,cos\n",
    "f = 2\n",
    "omega = 2.*pi * f\n",
    "numsteps = 11\n",
    "t = sp.arange(0,1/omega*2*pi,1/omega*2*pi/numsteps)\n",
    "x = sp.array([sin(omega*t)])\n",
    "v = sp.array([omega*cos(omega*t)])\n",
    "states = sp.append(x,v,axis = 0)\n",
    "state_derives = _har_deriv(omega,states)\n",
    "plt.plot(t,states.T,t,state_derives.T,'x')"
   ]
  },
  {
   "cell_type": "code",
   "execution_count": null,
   "metadata": {
    "collapsed": true
   },
   "outputs": [],
   "source": []
  },
  {
   "cell_type": "code",
   "execution_count": 266,
   "metadata": {},
   "outputs": [
    {
     "data": {
      "text/plain": [
       "[<matplotlib.lines.Line2D at 0x1146968d0>]"
      ]
     },
     "execution_count": 266,
     "metadata": {},
     "output_type": "execute_result"
    },
    {
     "data": {
      "image/png": "[encoded data removed]",
      "text/plain": [
       "<matplotlib.figure.Figure at 0x1145b3f98>"
      ]
     },
     "metadata": {},
     "output_type": "display_data"
    }
   ],
   "source": [
    "a = sp.array([sin(omega*t)])\n",
    "plt.plot(t,a.T)"
   ]
  },
  {
   "cell_type": "code",
   "execution_count": 267,
   "metadata": {},
   "outputs": [],
   "source": [
    "a;"
   ]
  },
  {
   "cell_type": "code",
   "execution_count": 268,
   "metadata": {},
   "outputs": [
    {
     "name": "stdout",
     "output_type": "stream",
     "text": [
      "11\n"
     ]
    },
    {
     "data": {
      "text/plain": [
       "array([[ 6.28318531,  5.28575184,  2.61012951, -0.8941905 , -4.11461134,\n",
       "        -6.02867215, -6.02867215, -4.11461134, -0.8941905 ,  2.61012951,\n",
       "         5.28575184]])"
      ]
     },
     "execution_count": 268,
     "metadata": {},
     "output_type": "execute_result"
    }
   ],
   "source": [
    "v =_har_deriv(2*pi, a)\n",
    "v"
   ]
  },
  {
   "cell_type": "code",
   "execution_count": 276,
   "metadata": {},
   "outputs": [
    {
     "data": {
      "text/plain": [
       "array([[ 0.        ,  0.54064082,  0.909632  ,  0.98982144,  0.75574957,\n",
       "         0.28173256, -0.28173256, -0.75574957, -0.98982144, -0.909632  ,\n",
       "        -0.54064082],\n",
       "       [ 6.28318531,  5.28575184,  2.61012951, -0.8941905 , -4.11461134,\n",
       "        -6.02867215, -6.02867215, -4.11461134, -0.8941905 ,  2.61012951,\n",
       "         5.28575184]])"
      ]
     },
     "execution_count": 276,
     "metadata": {},
     "output_type": "execute_result"
    }
   ],
   "source": [
    "bb = sp.append(a,v,axis=0)\n",
    "bb"
   ]
  },
  {
   "cell_type": "code",
   "execution_count": 277,
   "metadata": {},
   "outputs": [
    {
     "name": "stdout",
     "output_type": "stream",
     "text": [
      "11\n"
     ]
    },
    {
     "data": {
      "text/plain": [
       "array([[  6.28318531e+00,   5.28575184e+00,   2.61012951e+00,\n",
       "         -8.94190501e-01,  -4.11461134e+00,  -6.02867215e+00,\n",
       "         -6.02867215e+00,  -4.11461134e+00,  -8.94190501e-01,\n",
       "          2.61012951e+00,   5.28575184e+00],\n",
       "       [  3.35806140e-16,  -2.13436440e+01,  -3.59108318e+01,\n",
       "         -3.90765842e+01,  -2.98357973e+01,  -1.11223555e+01,\n",
       "          1.11223555e+01,   2.98357973e+01,   3.90765842e+01,\n",
       "          3.59108318e+01,   2.13436440e+01]])"
      ]
     },
     "execution_count": 277,
     "metadata": {},
     "output_type": "execute_result"
    }
   ],
   "source": [
    "_har_deriv(2*pi,bb)"
   ]
  },
  {
   "cell_type": "code",
   "execution_count": null,
   "metadata": {
    "collapsed": true
   },
   "outputs": [],
   "source": []
  },
  {
   "cell_type": "code",
   "execution_count": 269,
   "metadata": {
    "scrolled": true
   },
   "outputs": [
    {
     "data": {
      "text/plain": [
       "[<matplotlib.lines.Line2D at 0x114794550>,\n",
       " <matplotlib.lines.Line2D at 0x114794eb8>]"
      ]
     },
     "execution_count": 269,
     "metadata": {},
     "output_type": "execute_result"
    },
    {
     "data": {
      "image/png": "[encoded data removed]",
      "text/plain": [
       "<matplotlib.figure.Figure at 0x1146be828>"
      ]
     },
     "metadata": {},
     "output_type": "display_data"
    }
   ],
   "source": [
    "plt.plot(t,a.T,t,v.T)"
   ]
  },
  {
   "cell_type": "code",
   "execution_count": 131,
   "metadata": {},
   "outputs": [
    {
     "data": {
      "text/plain": [
       "array([ 0.  ,  0.02,  0.04,  0.06,  0.08])"
      ]
     },
     "execution_count": 131,
     "metadata": {},
     "output_type": "execute_result"
    }
   ],
   "source": [
    "t = sp.linspace(0,.1,6)\n",
    "t = t[0:-1]\n",
    "t"
   ]
  },
  {
   "cell_type": "code",
   "execution_count": 142,
   "metadata": {},
   "outputs": [
    {
     "data": {
      "text/plain": [
       "array([[  0.        ,   0.19866933,   0.38941834,   0.56464247,\n",
       "          0.71735609],\n",
       "       [ 62.83185307,  61.57939922,  57.87196905,  51.85736609,  43.7753736 ]])"
      ]
     },
     "execution_count": 142,
     "metadata": {},
     "output_type": "execute_result"
    }
   ],
   "source": [
    "aa"
   ]
  },
  {
   "cell_type": "code",
   "execution_count": 141,
   "metadata": {},
   "outputs": [
    {
     "data": {
      "text/plain": [
       "array([[  0.        ,   0.19866933,   0.38941834,   0.56464247,\n",
       "          0.71735609],\n",
       "       [ 62.83185307,  61.57939922,  57.87196905,  51.85736609,  43.7753736 ]])"
      ]
     },
     "execution_count": 141,
     "metadata": {},
     "output_type": "execute_result"
    }
   ],
   "source": [
    "aa = sp.array([sin(10*t),2*pi*10*cos(10*t)])\n",
    "aa"
   ]
  },
  {
   "cell_type": "code",
   "execution_count": 124,
   "metadata": {},
   "outputs": [
    {
     "data": {
      "text/plain": [
       "array([[-2.79468232,  1.52550164,  2.5438553 ,  1.52224561, -2.79692023],\n",
       "       [ 8.78707723, -1.27604141, -6.39681771, -6.38787073,  5.27365262]])"
      ]
     },
     "execution_count": 124,
     "metadata": {},
     "output_type": "execute_result"
    }
   ],
   "source": [
    "_har_deriv(10*pi,aa)"
   ]
  },
  {
   "cell_type": "code",
   "execution_count": 125,
   "metadata": {},
   "outputs": [
    {
     "data": {
      "text/plain": [
       "array([[  0.00000000e+00,   1.99986667e-02,   3.99893342e-02,\n",
       "          5.99640065e-02,   7.99146940e-02],\n",
       "       [  6.28318531e+01,   6.28192871e+01,   6.27815943e+01,\n",
       "          6.27187897e+01,   6.26308984e+01]])"
      ]
     },
     "execution_count": 125,
     "metadata": {},
     "output_type": "execute_result"
    }
   ],
   "source": [
    "aa"
   ]
  },
  {
   "cell_type": "code",
   "execution_count": 128,
   "metadata": {},
   "outputs": [
    {
     "data": {
      "text/plain": [
       "2.2749357974669455"
      ]
     },
     "execution_count": 128,
     "metadata": {},
     "output_type": "execute_result"
    }
   ],
   "source": [
    "62.8/8.787\n"
   ]
  },
  {
   "cell_type": "code",
   "execution_count": null,
   "metadata": {
    "collapsed": true
   },
   "outputs": [],
   "source": []
  }
 ],
 "metadata": {
  "hide_input": false,
  "kernelspec": {
   "display_name": "Python 3",
   "language": "python",
   "name": "python3"
  },
  "language_info": {
   "codemirror_mode": {
    "name": "ipython",
    "version": 3
   },
   "file_extension": ".py",
   "mimetype": "text/x-python",
   "name": "python",
   "nbconvert_exporter": "python",
   "pygments_lexer": "ipython3",
   "version": "3.6.1"
  },
  "latex_envs": {
   "bibliofile": "biblio.bib",
   "cite_by": "apalike",
   "current_citInitial": 1,
   "eqLabelWithNumbers": true,
   "eqNumInitial": 0
  }
 },
 "nbformat": 4,
 "nbformat_minor": 2
}

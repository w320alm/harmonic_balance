{
 "cells": [
  {
   "cell_type": "code",
   "execution_count": 1,
   "metadata": {
    "scrolled": true
   },
   "outputs": [
    {
     "name": "stdout",
     "output_type": "stream",
     "text": [
      "Automatic pdb calling has been turned OFF\n"
     ]
    }
   ],
   "source": [
    "%pdb off\n",
    "%matplotlib inline\n",
    "import matplotlib.pyplot as plt\n",
    "import scipy as sp\n",
    "import scipy.fftpack as fftp\n",
    "from scipy import pi,sin,cos"
   ]
  },
  {
   "cell_type": "code",
   "execution_count": null,
   "metadata": {
    "collapsed": true
   },
   "outputs": [],
   "source": [
    "def hb_so_err(x, **kwargs):\n",
    "    \"\"\"Array (vector) of second order algebraic hamonic balance errors.\n",
    "    \n",
    "    "
   ]
  },
  {
   "cell_type": "code",
   "execution_count": 2,
   "metadata": {},
   "outputs": [
    {
     "data": {
      "text/plain": [
       "1.2246467991473532e-16"
      ]
     },
     "execution_count": 2,
     "metadata": {},
     "output_type": "execute_result"
    }
   ],
   "source": [
    "sp.sin(pi)"
   ]
  },
  {
   "cell_type": "code",
   "execution_count": 3,
   "metadata": {
    "collapsed": true
   },
   "outputs": [],
   "source": [
    "a = sp.array([[sin(0),sin(2.*pi/3),sin(4.*(pi/3))],[cos(0),cos(2.*pi/3),cos(4.*(pi/3))]])"
   ]
  },
  {
   "cell_type": "code",
   "execution_count": 4,
   "metadata": {},
   "outputs": [
    {
     "data": {
      "text/plain": [
       "array([[ 0.       ,  0.8660254, -0.8660254],\n",
       "       [ 1.       , -0.5      , -0.5      ]])"
      ]
     },
     "execution_count": 4,
     "metadata": {},
     "output_type": "execute_result"
    }
   ],
   "source": [
    "a"
   ]
  },
  {
   "cell_type": "code",
   "execution_count": 5,
   "metadata": {},
   "outputs": [
    {
     "data": {
      "text/plain": [
       "array([[  4.44089210e-16 +0.00000000e+00j,\n",
       "         -2.22044605e-16 -1.50000000e+00j,\n",
       "         -2.22044605e-16 +1.50000000e+00j],\n",
       "       [ -2.22044605e-16 +0.00000000e+00j,\n",
       "          1.50000000e+00 -5.76888806e-16j,\n",
       "          1.50000000e+00 +5.76888806e-16j]])"
      ]
     },
     "execution_count": 5,
     "metadata": {},
     "output_type": "execute_result"
    }
   ],
   "source": [
    "b = fftp.fft(a)\n",
    "b"
   ]
  },
  {
   "cell_type": "code",
   "execution_count": 6,
   "metadata": {
    "collapsed": true
   },
   "outputs": [],
   "source": [
    "omega = sp.array([0,1j,-1j])"
   ]
  },
  {
   "cell_type": "code",
   "execution_count": 7,
   "metadata": {},
   "outputs": [
    {
     "data": {
      "text/plain": [
       "array([ 0.+0.j,  0.+1.j, -0.-1.j])"
      ]
     },
     "execution_count": 7,
     "metadata": {},
     "output_type": "execute_result"
    }
   ],
   "source": [
    "omega"
   ]
  },
  {
   "cell_type": "code",
   "execution_count": 8,
   "metadata": {},
   "outputs": [
    {
     "data": {
      "text/plain": [
       "array([  4.44089210e-16+0.j ,  -2.22044605e-16-1.5j,  -2.22044605e-16+1.5j])"
      ]
     },
     "execution_count": 8,
     "metadata": {},
     "output_type": "execute_result"
    }
   ],
   "source": [
    "b[0,:]"
   ]
  },
  {
   "cell_type": "code",
   "execution_count": 9,
   "metadata": {},
   "outputs": [
    {
     "data": {
      "text/plain": [
       "array([[  0.00000000e+00 +0.00000000e+00j,\n",
       "          1.50000000e+00 -2.22044605e-16j,\n",
       "          1.50000000e+00 +2.22044605e-16j],\n",
       "       [ -0.00000000e+00 +0.00000000e+00j,\n",
       "          5.76888806e-16 +1.50000000e+00j,\n",
       "          5.76888806e-16 -1.50000000e+00j]])"
      ]
     },
     "execution_count": 9,
     "metadata": {},
     "output_type": "execute_result"
    }
   ],
   "source": [
    "b*omega"
   ]
  },
  {
   "cell_type": "code",
   "execution_count": 10,
   "metadata": {
    "collapsed": true
   },
   "outputs": [],
   "source": [
    "c = fftp.ifft(b[0,:]*omega)"
   ]
  },
  {
   "cell_type": "code",
   "execution_count": 11,
   "metadata": {
    "collapsed": true
   },
   "outputs": [
    {
     "name": "stdout",
     "output_type": "stream",
     "text": [
      "Help on function fft in module scipy.fftpack.basic:\n",
      "\n",
      "fft(x, n=None, axis=-1, overwrite_x=False)\n",
      "    Return discrete Fourier transform of real or complex sequence.\n",
      "    \n",
      "    The returned complex array contains ``y(0), y(1),..., y(n-1)`` where\n",
      "    \n",
      "    ``y(j) = (x * exp(-2*pi*sqrt(-1)*j*np.arange(n)/n)).sum()``.\n",
      "    \n",
      "    Parameters\n",
      "    ----------\n",
      "    x : array_like\n",
      "        Array to Fourier transform.\n",
      "    n : int, optional\n",
      "        Length of the Fourier transform.  If ``n < x.shape[axis]``, `x` is\n",
      "        truncated.  If ``n > x.shape[axis]``, `x` is zero-padded. The\n",
      "        default results in ``n = x.shape[axis]``.\n",
      "    axis : int, optional\n",
      "        Axis along which the fft's are computed; the default is over the\n",
      "        last axis (i.e., ``axis=-1``).\n",
      "    overwrite_x : bool, optional\n",
      "        If True, the contents of `x` can be destroyed; the default is False.\n",
      "    \n",
      "    Returns\n",
      "    -------\n",
      "    z : complex ndarray\n",
      "        with the elements::\n",
      "    \n",
      "            [y(0),y(1),..,y(n/2),y(1-n/2),...,y(-1)]        if n is even\n",
      "            [y(0),y(1),..,y((n-1)/2),y(-(n-1)/2),...,y(-1)]  if n is odd\n",
      "    \n",
      "        where::\n",
      "    \n",
      "            y(j) = sum[k=0..n-1] x[k] * exp(-sqrt(-1)*j*k* 2*pi/n), j = 0..n-1\n",
      "    \n",
      "        Note that ``y(-j) = y(n-j).conjugate()``.\n",
      "    \n",
      "    See Also\n",
      "    --------\n",
      "    ifft : Inverse FFT\n",
      "    rfft : FFT of a real sequence\n",
      "    \n",
      "    Notes\n",
      "    -----\n",
      "    The packing of the result is \"standard\": If ``A = fft(a, n)``, then\n",
      "    ``A[0]`` contains the zero-frequency term, ``A[1:n/2]`` contains the\n",
      "    positive-frequency terms, and ``A[n/2:]`` contains the negative-frequency\n",
      "    terms, in order of decreasingly negative frequency. So for an 8-point\n",
      "    transform, the frequencies of the result are [0, 1, 2, 3, -4, -3, -2, -1].\n",
      "    To rearrange the fft output so that the zero-frequency component is\n",
      "    centered, like [-4, -3, -2, -1,  0,  1,  2,  3], use `fftshift`.\n",
      "    \n",
      "    For `n` even, ``A[n/2]`` contains the sum of the positive and\n",
      "    negative-frequency terms.  For `n` even and `x` real, ``A[n/2]`` will\n",
      "    always be real.\n",
      "    \n",
      "    Both single and double precision routines are implemented.  Half precision\n",
      "    inputs will be converted to single precision.  Non floating-point inputs\n",
      "    will be converted to double precision.  Long-double precision inputs are\n",
      "    not supported.\n",
      "    \n",
      "    This function is most efficient when `n` is a power of two, and least\n",
      "    efficient when `n` is prime.\n",
      "    \n",
      "    If the data type of `x` is real, a \"real FFT\" algorithm is automatically\n",
      "    used, which roughly halves the computation time.  To increase efficiency\n",
      "    a little further, use `rfft`, which does the same calculation, but only\n",
      "    outputs half of the symmetrical spectrum.  If the data is both real and\n",
      "    symmetrical, the `dct` can again double the efficiency, by generating\n",
      "    half of the spectrum from half of the signal.\n",
      "    \n",
      "    Examples\n",
      "    --------\n",
      "    >>> from scipy.fftpack import fft, ifft\n",
      "    >>> x = np.arange(5)\n",
      "    >>> np.allclose(fft(ifft(x)), x, atol=1e-15)  # within numerical accuracy.\n",
      "    True\n",
      "\n"
     ]
    }
   ],
   "source": [
    "help(sp.fftpack.fft)"
   ]
  },
  {
   "cell_type": "code",
   "execution_count": 15,
   "metadata": {},
   "outputs": [
    {
     "data": {
      "text/plain": [
       "array([[ 0.       ,  0.8660254, -0.8660254],\n",
       "       [ 1.       , -0.5      , -0.5      ]])"
      ]
     },
     "execution_count": 15,
     "metadata": {},
     "output_type": "execute_result"
    }
   ],
   "source": [
    "a"
   ]
  },
  {
   "cell_type": "code",
   "execution_count": 13,
   "metadata": {},
   "outputs": [
    {
     "data": {
      "text/plain": [
       "3"
      ]
     },
     "execution_count": 13,
     "metadata": {},
     "output_type": "execute_result"
    }
   ],
   "source": [
    "a.shape[1]"
   ]
  },
  {
   "cell_type": "code",
   "execution_count": 18,
   "metadata": {},
   "outputs": [
    {
     "data": {
      "text/plain": [
       "array([[ 0.       ],\n",
       "       [ 0.8660254],\n",
       "       [-0.8660254],\n",
       "       [ 1.       ],\n",
       "       [-0.5      ],\n",
       "       [-0.5      ]])"
      ]
     },
     "execution_count": 18,
     "metadata": {},
     "output_type": "execute_result"
    }
   ],
   "source": [
    "b = a.reshape([-1,1])\n",
    "b"
   ]
  },
  {
   "cell_type": "code",
   "execution_count": 19,
   "metadata": {},
   "outputs": [
    {
     "data": {
      "text/plain": [
       "array([[ 0.       ,  0.8660254, -0.8660254],\n",
       "       [ 1.       , -0.5      , -0.5      ]])"
      ]
     },
     "execution_count": 19,
     "metadata": {},
     "output_type": "execute_result"
    }
   ],
   "source": [
    "b.reshape([-1,3])"
   ]
  },
  {
   "cell_type": "code",
   "execution_count": 268,
   "metadata": {},
   "outputs": [
    {
     "name": "stdout",
     "output_type": "stream",
     "text": [
      "11\n"
     ]
    },
    {
     "data": {
      "text/plain": [
       "array([[ 6.28318531,  5.28575184,  2.61012951, -0.8941905 , -4.11461134,\n",
       "        -6.02867215, -6.02867215, -4.11461134, -0.8941905 ,  2.61012951,\n",
       "         5.28575184]])"
      ]
     },
     "execution_count": 268,
     "metadata": {},
     "output_type": "execute_result"
    }
   ],
   "source": [
    "v =_har_deriv(2*pi, a)\n",
    "v"
   ]
  },
  {
   "cell_type": "code",
   "execution_count": 276,
   "metadata": {},
   "outputs": [
    {
     "data": {
      "text/plain": [
       "array([[ 0.        ,  0.54064082,  0.909632  ,  0.98982144,  0.75574957,\n",
       "         0.28173256, -0.28173256, -0.75574957, -0.98982144, -0.909632  ,\n",
       "        -0.54064082],\n",
       "       [ 6.28318531,  5.28575184,  2.61012951, -0.8941905 , -4.11461134,\n",
       "        -6.02867215, -6.02867215, -4.11461134, -0.8941905 ,  2.61012951,\n",
       "         5.28575184]])"
      ]
     },
     "execution_count": 276,
     "metadata": {},
     "output_type": "execute_result"
    }
   ],
   "source": [
    "bb = sp.append(a,v,axis=0)\n",
    "bb"
   ]
  },
  {
   "cell_type": "code",
   "execution_count": 277,
   "metadata": {},
   "outputs": [
    {
     "name": "stdout",
     "output_type": "stream",
     "text": [
      "11\n"
     ]
    },
    {
     "data": {
      "text/plain": [
       "array([[  6.28318531e+00,   5.28575184e+00,   2.61012951e+00,\n",
       "         -8.94190501e-01,  -4.11461134e+00,  -6.02867215e+00,\n",
       "         -6.02867215e+00,  -4.11461134e+00,  -8.94190501e-01,\n",
       "          2.61012951e+00,   5.28575184e+00],\n",
       "       [  3.35806140e-16,  -2.13436440e+01,  -3.59108318e+01,\n",
       "         -3.90765842e+01,  -2.98357973e+01,  -1.11223555e+01,\n",
       "          1.11223555e+01,   2.98357973e+01,   3.90765842e+01,\n",
       "          3.59108318e+01,   2.13436440e+01]])"
      ]
     },
     "execution_count": 277,
     "metadata": {},
     "output_type": "execute_result"
    }
   ],
   "source": [
    "_har_deriv(2*pi,bb)"
   ]
  },
  {
   "cell_type": "code",
   "execution_count": null,
   "metadata": {
    "collapsed": true
   },
   "outputs": [],
   "source": []
  },
  {
   "cell_type": "code",
   "execution_count": 269,
   "metadata": {
    "scrolled": true
   },
   "outputs": [
    {
     "data": {
      "text/plain": [
       "[<matplotlib.lines.Line2D at 0x114794550>,\n",
       " <matplotlib.lines.Line2D at 0x114794eb8>]"
      ]
     },
     "execution_count": 269,
     "metadata": {},
     "output_type": "execute_result"
    },
    {
     "data": {
      "image/png": "[encoded data removed]",
      "text/plain": [
       "<matplotlib.figure.Figure at 0x1146be828>"
      ]
     },
     "metadata": {},
     "output_type": "display_data"
    }
   ],
   "source": [
    "plt.plot(t,a.T,t,v.T)"
   ]
  },
  {
   "cell_type": "code",
   "execution_count": 131,
   "metadata": {},
   "outputs": [
    {
     "data": {
      "text/plain": [
       "array([ 0.  ,  0.02,  0.04,  0.06,  0.08])"
      ]
     },
     "execution_count": 131,
     "metadata": {},
     "output_type": "execute_result"
    }
   ],
   "source": [
    "t = sp.linspace(0,.1,6)\n",
    "t = t[0:-1]\n",
    "t"
   ]
  },
  {
   "cell_type": "code",
   "execution_count": 142,
   "metadata": {},
   "outputs": [
    {
     "data": {
      "text/plain": [
       "array([[  0.        ,   0.19866933,   0.38941834,   0.56464247,\n",
       "          0.71735609],\n",
       "       [ 62.83185307,  61.57939922,  57.87196905,  51.85736609,  43.7753736 ]])"
      ]
     },
     "execution_count": 142,
     "metadata": {},
     "output_type": "execute_result"
    }
   ],
   "source": [
    "aa"
   ]
  },
  {
   "cell_type": "code",
   "execution_count": 141,
   "metadata": {},
   "outputs": [
    {
     "data": {
      "text/plain": [
       "array([[  0.        ,   0.19866933,   0.38941834,   0.56464247,\n",
       "          0.71735609],\n",
       "       [ 62.83185307,  61.57939922,  57.87196905,  51.85736609,  43.7753736 ]])"
      ]
     },
     "execution_count": 141,
     "metadata": {},
     "output_type": "execute_result"
    }
   ],
   "source": [
    "aa = sp.array([sin(10*t),2*pi*10*cos(10*t)])\n",
    "aa"
   ]
  },
  {
   "cell_type": "code",
   "execution_count": 124,
   "metadata": {},
   "outputs": [
    {
     "data": {
      "text/plain": [
       "array([[-2.79468232,  1.52550164,  2.5438553 ,  1.52224561, -2.79692023],\n",
       "       [ 8.78707723, -1.27604141, -6.39681771, -6.38787073,  5.27365262]])"
      ]
     },
     "execution_count": 124,
     "metadata": {},
     "output_type": "execute_result"
    }
   ],
   "source": [
    "_har_deriv(10*pi,aa)"
   ]
  },
  {
   "cell_type": "code",
   "execution_count": 125,
   "metadata": {},
   "outputs": [
    {
     "data": {
      "text/plain": [
       "array([[  0.00000000e+00,   1.99986667e-02,   3.99893342e-02,\n",
       "          5.99640065e-02,   7.99146940e-02],\n",
       "       [  6.28318531e+01,   6.28192871e+01,   6.27815943e+01,\n",
       "          6.27187897e+01,   6.26308984e+01]])"
      ]
     },
     "execution_count": 125,
     "metadata": {},
     "output_type": "execute_result"
    }
   ],
   "source": [
    "aa"
   ]
  },
  {
   "cell_type": "code",
   "execution_count": 128,
   "metadata": {},
   "outputs": [
    {
     "data": {
      "text/plain": [
       "2.2749357974669455"
      ]
     },
     "execution_count": 128,
     "metadata": {},
     "output_type": "execute_result"
    }
   ],
   "source": [
    "62.8/8.787\n"
   ]
  },
  {
   "cell_type": "code",
   "execution_count": 10,
   "metadata": {
    "collapsed": true
   },
   "outputs": [],
   "source": [
    "def func(**kwargs):\n",
    "    print(kwargs)\n",
    "    print(kwargs['g'])"
   ]
  },
  {
   "cell_type": "code",
   "execution_count": 11,
   "metadata": {},
   "outputs": [
    {
     "name": "stdout",
     "output_type": "stream",
     "text": [
      "{'g': 1}\n",
      "1\n"
     ]
    }
   ],
   "source": [
    "func(g = 1)"
   ]
  },
  {
   "cell_type": "code",
   "execution_count": 13,
   "metadata": {},
   "outputs": [
    {
     "name": "stdout",
     "output_type": "stream",
     "text": [
      "[ 4.04674914  3.91158389  2.71791677  1.61756251]\n"
     ]
    },
    {
     "data": {
      "text/plain": [
       "array([ 1.,  2.,  3.,  4.])"
      ]
     },
     "execution_count": 13,
     "metadata": {},
     "output_type": "execute_result"
    }
   ],
   "source": [
    "import numpy as np\n",
    "def F(x):\n",
    "    return np.cos(x) + x[::-1] - [1, 2, 3, 4]\n",
    "import scipy.optimize\n",
    "x = scipy.optimize.broyden1(F, [1,1,1,1], f_tol=1e-14)\n",
    "print(x)\n",
    "np.cos(x) + x[::-1]\n"
   ]
  },
  {
   "cell_type": "code",
   "execution_count": 14,
   "metadata": {},
   "outputs": [
    {
     "data": {
      "text/plain": [
       "array([ 1.61756251,  2.71791677,  3.91158389,  4.04674914])"
      ]
     },
     "execution_count": 14,
     "metadata": {},
     "output_type": "execute_result"
    }
   ],
   "source": [
    "x[::-1]"
   ]
  },
  {
   "cell_type": "code",
   "execution_count": 15,
   "metadata": {},
   "outputs": [
    {
     "data": {
      "text/plain": [
       "-0.00060115645740976831"
      ]
     },
     "execution_count": 15,
     "metadata": {},
     "output_type": "execute_result"
    }
   ],
   "source": [
    "np.cos(4.0467)+1.617-1"
   ]
  },
  {
   "cell_type": "code",
   "execution_count": 16,
   "metadata": {},
   "outputs": [
    {
     "name": "stdout",
     "output_type": "stream",
     "text": [
      "0:  |F(x)| = 626.642; step 1; tol 0.000157679\n",
      "1:  |F(x)| = 234.794; step 1; tol 0.12635\n",
      "2:  |F(x)| = 114.961; step 1; tol 0.215759\n",
      "3:  |F(x)| = 24.1248; step 1; tol 0.0396341\n",
      "4:  |F(x)| = 1.53245; step 1; tol 0.00363151\n",
      "5:  |F(x)| = 0.118376; step 1; tol 0.0053703\n",
      "6:  |F(x)| = 0.00888316; step 1; tol 0.00506815\n",
      "7:  |F(x)| = 0.000125266; step 1; tol 0.000178966\n",
      "Residual: 5.8124e-06\n"
     ]
    },
    {
     "data": {
      "image/png": "[encoded data removed]",
      "text/plain": [
       "<matplotlib.figure.Figure at 0x1173e3ac8>"
      ]
     },
     "metadata": {},
     "output_type": "display_data"
    }
   ],
   "source": [
    "import numpy as np\n",
    "from scipy.optimize import newton_krylov\n",
    "from numpy import cosh, zeros_like, mgrid, zeros\n",
    "\n",
    "# parameters\n",
    "nx, ny = 75, 75\n",
    "hx, hy = 1./(nx-1), 1./(ny-1)\n",
    "\n",
    "P_left, P_right = 0, 0\n",
    "P_top, P_bottom = 1, 0\n",
    "\n",
    "def residual(P):\n",
    "    d2x = zeros_like(P)\n",
    "    d2y = zeros_like(P)\n",
    "\n",
    "    d2x[1:-1] = (P[2:]   - 2*P[1:-1] + P[:-2]) / hx/hx\n",
    "    d2x[0]    = (P[1]    - 2*P[0]    + P_left)/hx/hx\n",
    "    d2x[-1]   = (P_right - 2*P[-1]   + P[-2])/hx/hx\n",
    "\n",
    "    d2y[:,1:-1] = (P[:,2:] - 2*P[:,1:-1] + P[:,:-2])/hy/hy\n",
    "    d2y[:,0]    = (P[:,1]  - 2*P[:,0]    + P_bottom)/hy/hy\n",
    "    d2y[:,-1]   = (P_top   - 2*P[:,-1]   + P[:,-2])/hy/hy\n",
    "\n",
    "    return d2x + d2y - 10*cosh(P).mean()**2\n",
    "\n",
    "# solve\n",
    "guess = zeros((nx, ny), float)\n",
    "sol = newton_krylov(residual, guess, method='lgmres', verbose=1)\n",
    "print('Residual: %g' % abs(residual(sol)).max())\n",
    "\n",
    "# visualize\n",
    "import matplotlib.pyplot as plt\n",
    "x, y = mgrid[0:1:(nx*1j), 0:1:(ny*1j)]\n",
    "plt.pcolor(x, y, sol)\n",
    "plt.colorbar()\n",
    "plt.show()"
   ]
  },
  {
   "cell_type": "code",
   "execution_count": null,
   "metadata": {
    "collapsed": true
   },
   "outputs": [],
   "source": []
  }
 ],
 "metadata": {
  "hide_input": false,
  "kernelspec": {
   "display_name": "Python 3",
   "language": "python",
   "name": "python3"
  },
  "language_info": {
   "codemirror_mode": {
    "name": "ipython",
    "version": 3
   },
   "file_extension": ".py",
   "mimetype": "text/x-python",
   "name": "python",
   "nbconvert_exporter": "python",
   "pygments_lexer": "ipython3",
   "version": "3.6.1"
  },
  "latex_envs": {
   "bibliofile": "biblio.bib",
   "cite_by": "apalike",
   "current_citInitial": 1,
   "eqLabelWithNumbers": true,
   "eqNumInitial": 0
  }
 },
 "nbformat": 4,
 "nbformat_minor": 2
}

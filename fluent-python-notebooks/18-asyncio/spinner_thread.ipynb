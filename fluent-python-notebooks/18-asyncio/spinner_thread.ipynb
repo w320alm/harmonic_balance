{
 "cells": [
  {
   "cell_type": "markdown",
   "metadata": {},
   "source": [
    "> **Note**: This example does not output correctly in Jupyter notebook.\n",
    "\n",
    "In this example, we are creating the spinner output but using a implementation with Python Threads. \n",
    "\n",
    "### spin()\n",
    "\n",
    "This function accepts a message and then outputs that message with a spinning bar as it is running. \n",
    "\n",
    "### slow_function()\n",
    "\n",
    "This function sleeps for three seconds then returns `42`. \n",
    "\n",
    "### supervisor()\n",
    "\n",
    "This function creates an instance of the `Signal` class and initializes the attribute `go` to `True`. It then creates a Threads with the `spin` function as the target. The `signal` class is being used as a stoplight for the Thread. After calling `slow_function()` which pauses the main thread's execution for three seconds. It then sets the attribute `signal.go` to `False` and then waits for the Thread to finish before returning `result`. "
   ]
  },
  {
   "cell_type": "code",
   "execution_count": 1,
   "metadata": {
    "collapsed": false
   },
   "outputs": [
    {
     "name": "stdout",
     "output_type": "stream",
     "text": [
      "spinner object: <Thread(Thread-4, initial)>\n",
      "| thinking!\b\b\b\b\b\b\b\b\b\b\b/ thinking!\b\b\b\b\b\b\b\b\b\b\b- thinking!\b\b\b\b\b\b\b\b\b\b\b\\ thinking!\b\b\b\b\b\b\b\b\b\b\b| thinking!\b\b\b\b\b\b\b\b\b\b\b/ thinking!\b\b\b\b\b\b\b\b\b\b\b- thinking!\b\b\b\b\b\b\b\b\b\b\b\\ thinking!\b\b\b\b\b\b\b\b\b\b\b| thinking!\b\b\b\b\b\b\b\b\b\b\b/ thinking!\b\b\b\b\b\b\b\b\b\b\b- thinking!\b\b\b\b\b\b\b\b\b\b\b\\ thinking!\b\b\b\b\b\b\b\b\b\b\b| thinking!\b\b\b\b\b\b\b\b\b\b\b/ thinking!\b\b\b\b\b\b\b\b\b\b\b- thinking!\b\b\b\b\b\b\b\b\b\b\b\\ thinking!\b\b\b\b\b\b\b\b\b\b\b| thinking!\b\b\b\b\b\b\b\b\b\b\b/ thinking!\b\b\b\b\b\b\b\b\b\b\b- thinking!\b\b\b\b\b\b\b\b\b\b\b\\ thinking!\b\b\b\b\b\b\b\b\b\b\b| thinking!\b\b\b\b\b\b\b\b\b\b\b/ thinking!\b\b\b\b\b\b\b\b\b\b\b- thinking!\b\b\b\b\b\b\b\b\b\b\b\\ thinking!\b\b\b\b\b\b\b\b\b\b\b| thinking!\b\b\b\b\b\b\b\b\b\b\b/ thinking!\b\b\b\b\b\b\b\b\b\b\b- thinking!\b\b\b\b\b\b\b\b\b\b\b\\ thinking!\b\b\b\b\b\b\b\b\b\b\b| thinking!\b\b\b\b\b\b\b\b\b\b\b           \b\b\b\b\b\b\b\b\b\b\bAnswer: 42\n"
     ]
    }
   ],
   "source": [
    "# spinner_thread.py\n",
    "\n",
    "# credits: Adapted from Michele Simionato's\n",
    "# multiprocessing example in the python-list:\n",
    "# https://mail.python.org/pipermail/python-list/2009-February/538048.html\n",
    "\n",
    "# BEGIN SPINNER_THREAD\n",
    "import threading\n",
    "import itertools\n",
    "import time\n",
    "import sys\n",
    "\n",
    "\n",
    "class Signal:  # <1>\n",
    "    go = True\n",
    "\n",
    "\n",
    "def spin(msg, signal):  # <2>\n",
    "    write, flush = sys.stdout.write, sys.stdout.flush\n",
    "    for char in itertools.cycle('|/-\\\\'):  # <3>\n",
    "        status = char + ' ' + msg\n",
    "        write(status)\n",
    "        flush()\n",
    "        write('\\x08' * len(status))  # <4>\n",
    "        time.sleep(.1)\n",
    "        if not signal.go:  # <5>\n",
    "            break\n",
    "    write(' ' * len(status) + '\\x08' * len(status))  # <6>\n",
    "\n",
    "\n",
    "def slow_function():  # <7>\n",
    "    # pretend waiting a long time for I/O\n",
    "    time.sleep(3)  # <8>\n",
    "    return 42\n",
    "\n",
    "\n",
    "def supervisor():  # <9>\n",
    "    signal = Signal()\n",
    "    spinner = threading.Thread(target=spin,\n",
    "                               args=('thinking!', signal))\n",
    "    print('spinner object:', spinner)  # <10>\n",
    "    spinner.start()  # <11>\n",
    "    result = slow_function()  # <12>\n",
    "    signal.go = False  # <13>\n",
    "    spinner.join()  # <14>\n",
    "    return result\n",
    "\n",
    "\n",
    "def main():\n",
    "    result = supervisor()  # <15>\n",
    "    print('Answer:', result)\n",
    "\n",
    "\n",
    "if __name__ == '__main__':\n",
    "    main()\n",
    "# END SPINNER_THREAD\n"
   ]
  },
  {
   "cell_type": "code",
   "execution_count": null,
   "metadata": {
    "collapsed": true
   },
   "outputs": [],
   "source": []
  }
 ],
 "metadata": {
  "kernelspec": {
   "display_name": "Python 3",
   "language": "python",
   "name": "python3"
  },
  "language_info": {
   "codemirror_mode": {
    "name": "ipython",
    "version": 3
   },
   "file_extension": ".py",
   "mimetype": "text/x-python",
   "name": "python",
   "nbconvert_exporter": "python",
   "pygments_lexer": "ipython3",
   "version": "3.5.1"
  }
 },
 "nbformat": 4,
 "nbformat_minor": 0
}
